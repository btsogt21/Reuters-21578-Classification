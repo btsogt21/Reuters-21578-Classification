{
 "cells": [
  {
   "cell_type": "code",
   "execution_count": 1,
   "id": "e4254a5e",
   "metadata": {
    "tags": []
   },
   "outputs": [],
   "source": [
    "import os # currently used for pathing\n",
    "\n",
    "from bs4 import BeautifulSoup # currently used for parsing SGML format\n",
    "\n",
    "import pandas as pd\n",
    "\n",
    "import re # regex, currently used for cleaning\n",
    "\n",
    "import html # currently used for cleaning\n",
    "\n",
    "from sklearn.preprocessing import MultiLabelBinarizer # currently used for one-hot encoding\n",
    "\n",
    "import numpy as np\n",
    "\n",
    "from skmultilearn.model_selection import iterative_train_test_split # splitting data, using iterative split module for stratified splitting given prevalence of labels with only 2 associated documents\n",
    "\n",
    "from transformers import BertTokenizer # currently used for tokenizing input\n",
    "\n",
    "import torch # currently used for converting one-hot encoded topics into PyTorch tensor\n",
    "\n",
    "from torch.utils.data import Dataset, DataLoader # currently used for feeding data into the model in batches.\n",
    "\n",
    "from transformers import BertForSequenceClassification # import for the BERT model. This one in particular is the sequence-classification model, which is just BERT with an additional classification layer on top. More suitable for Document Classification.\n",
    "\n",
    "from transformers import AdamW, get_linear_schedule_with_warmup # Using AdamW as our optimizer, adding learning rate scheduler to adjust learning rate during training\n",
    "\n",
    "from torch import nn # neural network module from PyTorch. We're retrieving our loss function from the nn module.\n",
    "from sklearn.metrics import accuracy_score, f1_score, precision_score, recall_score  # metrics"
   ]
  },
  {
   "cell_type": "code",
   "execution_count": 2,
   "id": "3076478b",
   "metadata": {
    "tags": []
   },
   "outputs": [],
   "source": [
    "relative_path = os.path.join('Datasets', 'reuters21578')"
   ]
  },
  {
   "cell_type": "code",
   "execution_count": 3,
   "id": "5ef81bb9",
   "metadata": {
    "tags": []
   },
   "outputs": [],
   "source": [
    "sgml_files = [os.path.join(relative_path, f) for f in os.listdir(relative_path) if f.endswith('.sgm')]"
   ]
  },
  {
   "cell_type": "code",
   "execution_count": 4,
   "id": "3d2c557d",
   "metadata": {
    "tags": []
   },
   "outputs": [
    {
     "data": {
      "text/plain": [
       "['Datasets\\\\reuters21578\\\\reut2-000.sgm',\n",
       " 'Datasets\\\\reuters21578\\\\reut2-001.sgm',\n",
       " 'Datasets\\\\reuters21578\\\\reut2-002.sgm',\n",
       " 'Datasets\\\\reuters21578\\\\reut2-003.sgm',\n",
       " 'Datasets\\\\reuters21578\\\\reut2-004.sgm',\n",
       " 'Datasets\\\\reuters21578\\\\reut2-005.sgm',\n",
       " 'Datasets\\\\reuters21578\\\\reut2-006.sgm',\n",
       " 'Datasets\\\\reuters21578\\\\reut2-007.sgm',\n",
       " 'Datasets\\\\reuters21578\\\\reut2-008.sgm',\n",
       " 'Datasets\\\\reuters21578\\\\reut2-009.sgm',\n",
       " 'Datasets\\\\reuters21578\\\\reut2-010.sgm',\n",
       " 'Datasets\\\\reuters21578\\\\reut2-011.sgm',\n",
       " 'Datasets\\\\reuters21578\\\\reut2-012.sgm',\n",
       " 'Datasets\\\\reuters21578\\\\reut2-013.sgm',\n",
       " 'Datasets\\\\reuters21578\\\\reut2-014.sgm',\n",
       " 'Datasets\\\\reuters21578\\\\reut2-015.sgm',\n",
       " 'Datasets\\\\reuters21578\\\\reut2-016.sgm',\n",
       " 'Datasets\\\\reuters21578\\\\reut2-017.sgm',\n",
       " 'Datasets\\\\reuters21578\\\\reut2-018.sgm',\n",
       " 'Datasets\\\\reuters21578\\\\reut2-019.sgm',\n",
       " 'Datasets\\\\reuters21578\\\\reut2-020.sgm',\n",
       " 'Datasets\\\\reuters21578\\\\reut2-021.sgm']"
      ]
     },
     "execution_count": 4,
     "metadata": {},
     "output_type": "execute_result"
    }
   ],
   "source": [
    "# Checking for presence of all .sgm files.\n",
    "\n",
    "sgml_files"
   ]
  },
  {
   "cell_type": "markdown",
   "id": "e79110b4",
   "metadata": {},
   "source": [
    "# Extracting relevant data from Reuters-21578.\n",
    "\n",
    "The reuters-21578 dataset is structured in SGML format. What will be column headers are differentiated via XML tags. This is evident if you print out the results of 'file.read()'. For our first classification model, we will be using BERT. Given this, we are mainly interested in the 'title' and 'body' tags for tokenization and later input. In addition to tokenizing text and titles, we are also interested in preparing labels. The labels for each document in this dataset are conveniently indicated by the 'topics' tag.\n",
    "\n",
    "It should be noted that the 'body' tag seems to disappear after we have parsed via BeautifulSoup. To work around this, we have simply replaced the 'body' opening and closing tags with the 'content' tag (which can be parsed via BeautifulSoup)."
   ]
  },
  {
   "cell_type": "code",
   "execution_count": 5,
   "id": "91653c02",
   "metadata": {
    "tags": []
   },
   "outputs": [],
   "source": [
    "# Function to extract document text and topics where the 'topics' field of the 'REUTERS' tag is set to 'YES'\n",
    "def extract_reuters_data(sgml_file):\n",
    "    with open(sgml_file, 'r', encoding='latin-1') as file: # ? Why latin-1 as our encoding parameter?\n",
    "        content = file.read()\n",
    "    content = content.replace('<BODY>', '<CONTENT>').replace('</BODY>', '</CONTENT>')\n",
    "    soup = BeautifulSoup(content, 'lxml') # ? Why 'lxml'?\n",
    "    \n",
    "    documents = []\n",
    "    for reuters in soup.find_all('reuters'):\n",
    "        if reuters.get('topics') == 'YES':\n",
    "            topics = [topic.text for topic in reuters.topics.find_all('d')] if reuters.topics else []\n",
    "            title = reuters.find('title').text if reuters.find('title') else ''\n",
    "            body = reuters.find('content').text if reuters.find('content') else ''\n",
    "\n",
    "            documents.append({'topics': topics, 'title': title, 'body' : body})\n",
    "    return documents"
   ]
  },
  {
   "cell_type": "code",
   "execution_count": 6,
   "id": "131f846a",
   "metadata": {
    "tags": []
   },
   "outputs": [
    {
     "data": {
      "text/html": [
       "<div>\n",
       "<style scoped>\n",
       "    .dataframe tbody tr th:only-of-type {\n",
       "        vertical-align: middle;\n",
       "    }\n",
       "\n",
       "    .dataframe tbody tr th {\n",
       "        vertical-align: top;\n",
       "    }\n",
       "\n",
       "    .dataframe thead th {\n",
       "        text-align: right;\n",
       "    }\n",
       "</style>\n",
       "<table border=\"1\" class=\"dataframe\">\n",
       "  <thead>\n",
       "    <tr style=\"text-align: right;\">\n",
       "      <th></th>\n",
       "      <th>topics</th>\n",
       "      <th>title</th>\n",
       "      <th>body</th>\n",
       "    </tr>\n",
       "  </thead>\n",
       "  <tbody>\n",
       "    <tr>\n",
       "      <th>0</th>\n",
       "      <td>[cocoa]</td>\n",
       "      <td>BAHIA COCOA REVIEW</td>\n",
       "      <td>Showers continued throughout the week in\\nthe ...</td>\n",
       "    </tr>\n",
       "    <tr>\n",
       "      <th>1</th>\n",
       "      <td>[grain, wheat, corn, barley, oat, sorghum]</td>\n",
       "      <td>NATIONAL AVERAGE PRICES FOR FARMER-OWNED RESERVE</td>\n",
       "      <td>The U.S. Agriculture Department\\nreported the ...</td>\n",
       "    </tr>\n",
       "    <tr>\n",
       "      <th>2</th>\n",
       "      <td>[veg-oil, linseed, lin-oil, soy-oil, sun-oil, ...</td>\n",
       "      <td>ARGENTINE 1986/87 GRAIN/OILSEED REGISTRATIONS</td>\n",
       "      <td>Argentine grain board figures show\\ncrop regis...</td>\n",
       "    </tr>\n",
       "    <tr>\n",
       "      <th>3</th>\n",
       "      <td>[]</td>\n",
       "      <td>USX &lt;X&gt; DEBT DOWGRADED BY MOODY'S</td>\n",
       "      <td>Moody's Investors Service Inc said it\\nlowered...</td>\n",
       "    </tr>\n",
       "    <tr>\n",
       "      <th>4</th>\n",
       "      <td>[earn]</td>\n",
       "      <td>CHAMPION PRODUCTS &lt;CH&gt; APPROVES STOCK SPLIT</td>\n",
       "      <td>Champion Products Inc said its\\nboard of direc...</td>\n",
       "    </tr>\n",
       "  </tbody>\n",
       "</table>\n",
       "</div>"
      ],
      "text/plain": [
       "                                              topics  \\\n",
       "0                                            [cocoa]   \n",
       "1         [grain, wheat, corn, barley, oat, sorghum]   \n",
       "2  [veg-oil, linseed, lin-oil, soy-oil, sun-oil, ...   \n",
       "3                                                 []   \n",
       "4                                             [earn]   \n",
       "\n",
       "                                              title  \\\n",
       "0                                BAHIA COCOA REVIEW   \n",
       "1  NATIONAL AVERAGE PRICES FOR FARMER-OWNED RESERVE   \n",
       "2     ARGENTINE 1986/87 GRAIN/OILSEED REGISTRATIONS   \n",
       "3                 USX <X> DEBT DOWGRADED BY MOODY'S   \n",
       "4       CHAMPION PRODUCTS <CH> APPROVES STOCK SPLIT   \n",
       "\n",
       "                                                body  \n",
       "0  Showers continued throughout the week in\\nthe ...  \n",
       "1  The U.S. Agriculture Department\\nreported the ...  \n",
       "2  Argentine grain board figures show\\ncrop regis...  \n",
       "3  Moody's Investors Service Inc said it\\nlowered...  \n",
       "4  Champion Products Inc said its\\nboard of direc...  "
      ]
     },
     "execution_count": 6,
     "metadata": {},
     "output_type": "execute_result"
    }
   ],
   "source": [
    "# Extract all documents from the SGML files in the relative path\n",
    "all_documents = []\n",
    "for sgml_file in sgml_files:\n",
    "    all_documents.extend(extract_reuters_data(sgml_file))\n",
    "\n",
    "# Convert the list of documents to a dataframe\n",
    "df = pd.DataFrame(all_documents)\n",
    "\n",
    "# Display the first few rows of the dataframe\n",
    "df.head()"
   ]
  },
  {
   "cell_type": "markdown",
   "id": "8925aa8c",
   "metadata": {
    "tags": []
   },
   "source": [
    "# Data Cleaning"
   ]
  },
  {
   "cell_type": "code",
   "execution_count": 7,
   "id": "2358c847",
   "metadata": {
    "tags": []
   },
   "outputs": [],
   "source": [
    "# 1. Remove newline characters\n",
    "df['body'] = df['body'].str.replace('\\n', ' ', regex=False)\n",
    "df['title'] = df['title'].str.replace('\\n', ' ', regex=False)"
   ]
  },
  {
   "cell_type": "code",
   "execution_count": 8,
   "id": "c434b143",
   "metadata": {
    "tags": []
   },
   "outputs": [],
   "source": [
    "# 2. Remove extra spaces\n",
    "df['body'] = df['body'].apply(lambda x: ' '.join(x.split()))\n",
    "df['title'] = df['title'].apply(lambda x: ' '.join(x.split()))"
   ]
  },
  {
   "cell_type": "code",
   "execution_count": 9,
   "id": "c5d9c28a",
   "metadata": {
    "tags": []
   },
   "outputs": [],
   "source": [
    "# 3. Optionally, convert to lowercase\n",
    "# df['body'] = df['body'].str.lower()\n",
    "# df['title'] = df['title'].str.lower()"
   ]
  },
  {
   "cell_type": "code",
   "execution_count": 10,
   "id": "fd17f929",
   "metadata": {
    "tags": []
   },
   "outputs": [],
   "source": [
    "# 4. Optionally, filter out short documents\n",
    "# df = df[df['body'].apply(lambda x: len(x.split()) > 10)]"
   ]
  },
  {
   "cell_type": "code",
   "execution_count": 11,
   "id": "3e15eeaf",
   "metadata": {
    "tags": []
   },
   "outputs": [],
   "source": [
    "# 5. Handle HTML/SGML entities\n",
    "df['body'] = df['body'].apply(html.unescape)\n",
    "df['title'] = df['title'].apply(html.unescape)"
   ]
  },
  {
   "cell_type": "code",
   "execution_count": 12,
   "id": "d5be6fbc-ec14-43ba-b579-cf8a63b51b82",
   "metadata": {
    "tags": []
   },
   "outputs": [],
   "source": [
    "# 6. Combine title and text columns together\n",
    "\n",
    "df['combined_text'] = df['title'] + \" \" + df['body']"
   ]
  },
  {
   "cell_type": "code",
   "execution_count": 13,
   "id": "0bdc5ad4-3502-4a2c-b1ab-d1af4e7f8376",
   "metadata": {
    "tags": []
   },
   "outputs": [
    {
     "data": {
      "text/html": [
       "<div>\n",
       "<style scoped>\n",
       "    .dataframe tbody tr th:only-of-type {\n",
       "        vertical-align: middle;\n",
       "    }\n",
       "\n",
       "    .dataframe tbody tr th {\n",
       "        vertical-align: top;\n",
       "    }\n",
       "\n",
       "    .dataframe thead th {\n",
       "        text-align: right;\n",
       "    }\n",
       "</style>\n",
       "<table border=\"1\" class=\"dataframe\">\n",
       "  <thead>\n",
       "    <tr style=\"text-align: right;\">\n",
       "      <th></th>\n",
       "      <th>topics</th>\n",
       "      <th>title</th>\n",
       "      <th>body</th>\n",
       "      <th>combined_text</th>\n",
       "    </tr>\n",
       "  </thead>\n",
       "  <tbody>\n",
       "    <tr>\n",
       "      <th>0</th>\n",
       "      <td>[cocoa]</td>\n",
       "      <td>BAHIA COCOA REVIEW</td>\n",
       "      <td>Showers continued throughout the week in the B...</td>\n",
       "      <td>BAHIA COCOA REVIEW Showers continued throughou...</td>\n",
       "    </tr>\n",
       "    <tr>\n",
       "      <th>1</th>\n",
       "      <td>[grain, wheat, corn, barley, oat, sorghum]</td>\n",
       "      <td>NATIONAL AVERAGE PRICES FOR FARMER-OWNED RESERVE</td>\n",
       "      <td>The U.S. Agriculture Department reported the f...</td>\n",
       "      <td>NATIONAL AVERAGE PRICES FOR FARMER-OWNED RESER...</td>\n",
       "    </tr>\n",
       "    <tr>\n",
       "      <th>2</th>\n",
       "      <td>[veg-oil, linseed, lin-oil, soy-oil, sun-oil, ...</td>\n",
       "      <td>ARGENTINE 1986/87 GRAIN/OILSEED REGISTRATIONS</td>\n",
       "      <td>Argentine grain board figures show crop regist...</td>\n",
       "      <td>ARGENTINE 1986/87 GRAIN/OILSEED REGISTRATIONS ...</td>\n",
       "    </tr>\n",
       "    <tr>\n",
       "      <th>3</th>\n",
       "      <td>[]</td>\n",
       "      <td>USX &lt;X&gt; DEBT DOWGRADED BY MOODY'S</td>\n",
       "      <td>Moody's Investors Service Inc said it lowered ...</td>\n",
       "      <td>USX &lt;X&gt; DEBT DOWGRADED BY MOODY'S Moody's Inve...</td>\n",
       "    </tr>\n",
       "    <tr>\n",
       "      <th>4</th>\n",
       "      <td>[earn]</td>\n",
       "      <td>CHAMPION PRODUCTS &lt;CH&gt; APPROVES STOCK SPLIT</td>\n",
       "      <td>Champion Products Inc said its board of direct...</td>\n",
       "      <td>CHAMPION PRODUCTS &lt;CH&gt; APPROVES STOCK SPLIT Ch...</td>\n",
       "    </tr>\n",
       "    <tr>\n",
       "      <th>...</th>\n",
       "      <td>...</td>\n",
       "      <td>...</td>\n",
       "      <td>...</td>\n",
       "      <td>...</td>\n",
       "    </tr>\n",
       "    <tr>\n",
       "      <th>13471</th>\n",
       "      <td>[acq]</td>\n",
       "      <td>N.Z.'S CHASE CORP MAKES OFFER FOR ENTREGROWTH</td>\n",
       "      <td>Chase Corp Ltd &lt;CHCA.WE&gt; said it will make an ...</td>\n",
       "      <td>N.Z.'S CHASE CORP MAKES OFFER FOR ENTREGROWTH ...</td>\n",
       "    </tr>\n",
       "    <tr>\n",
       "      <th>13472</th>\n",
       "      <td>[money-fx, dlr, yen]</td>\n",
       "      <td>TOKYO DEALERS SEE DOLLAR POISED TO BREACH 140 YEN</td>\n",
       "      <td>Tokyo's foreign exchange market is watching ne...</td>\n",
       "      <td>TOKYO DEALERS SEE DOLLAR POISED TO BREACH 140 ...</td>\n",
       "    </tr>\n",
       "    <tr>\n",
       "      <th>13473</th>\n",
       "      <td>[ship]</td>\n",
       "      <td>JAPAN/INDIA CONFERENCE CUTS GULF WAR RISK CHARGES</td>\n",
       "      <td>The Japan/India-Pakistan-Gulf/Japan shipping c...</td>\n",
       "      <td>JAPAN/INDIA CONFERENCE CUTS GULF WAR RISK CHAR...</td>\n",
       "    </tr>\n",
       "    <tr>\n",
       "      <th>13474</th>\n",
       "      <td>[ipi]</td>\n",
       "      <td>SOVIET INDUSTRIAL GROWTH/TRADE SLOWER IN 1987</td>\n",
       "      <td>The Soviet Union's industrial output is growin...</td>\n",
       "      <td>SOVIET INDUSTRIAL GROWTH/TRADE SLOWER IN 1987 ...</td>\n",
       "    </tr>\n",
       "    <tr>\n",
       "      <th>13475</th>\n",
       "      <td>[gold]</td>\n",
       "      <td>SIX KILLED IN SOUTH AFRICAN GOLD MINE ACCIDENT</td>\n",
       "      <td>Six black miners have been killed and two inju...</td>\n",
       "      <td>SIX KILLED IN SOUTH AFRICAN GOLD MINE ACCIDENT...</td>\n",
       "    </tr>\n",
       "  </tbody>\n",
       "</table>\n",
       "<p>13476 rows × 4 columns</p>\n",
       "</div>"
      ],
      "text/plain": [
       "                                                  topics  \\\n",
       "0                                                [cocoa]   \n",
       "1             [grain, wheat, corn, barley, oat, sorghum]   \n",
       "2      [veg-oil, linseed, lin-oil, soy-oil, sun-oil, ...   \n",
       "3                                                     []   \n",
       "4                                                 [earn]   \n",
       "...                                                  ...   \n",
       "13471                                              [acq]   \n",
       "13472                               [money-fx, dlr, yen]   \n",
       "13473                                             [ship]   \n",
       "13474                                              [ipi]   \n",
       "13475                                             [gold]   \n",
       "\n",
       "                                                   title  \\\n",
       "0                                     BAHIA COCOA REVIEW   \n",
       "1       NATIONAL AVERAGE PRICES FOR FARMER-OWNED RESERVE   \n",
       "2          ARGENTINE 1986/87 GRAIN/OILSEED REGISTRATIONS   \n",
       "3                      USX <X> DEBT DOWGRADED BY MOODY'S   \n",
       "4            CHAMPION PRODUCTS <CH> APPROVES STOCK SPLIT   \n",
       "...                                                  ...   \n",
       "13471      N.Z.'S CHASE CORP MAKES OFFER FOR ENTREGROWTH   \n",
       "13472  TOKYO DEALERS SEE DOLLAR POISED TO BREACH 140 YEN   \n",
       "13473  JAPAN/INDIA CONFERENCE CUTS GULF WAR RISK CHARGES   \n",
       "13474      SOVIET INDUSTRIAL GROWTH/TRADE SLOWER IN 1987   \n",
       "13475     SIX KILLED IN SOUTH AFRICAN GOLD MINE ACCIDENT   \n",
       "\n",
       "                                                    body  \\\n",
       "0      Showers continued throughout the week in the B...   \n",
       "1      The U.S. Agriculture Department reported the f...   \n",
       "2      Argentine grain board figures show crop regist...   \n",
       "3      Moody's Investors Service Inc said it lowered ...   \n",
       "4      Champion Products Inc said its board of direct...   \n",
       "...                                                  ...   \n",
       "13471  Chase Corp Ltd <CHCA.WE> said it will make an ...   \n",
       "13472  Tokyo's foreign exchange market is watching ne...   \n",
       "13473  The Japan/India-Pakistan-Gulf/Japan shipping c...   \n",
       "13474  The Soviet Union's industrial output is growin...   \n",
       "13475  Six black miners have been killed and two inju...   \n",
       "\n",
       "                                           combined_text  \n",
       "0      BAHIA COCOA REVIEW Showers continued throughou...  \n",
       "1      NATIONAL AVERAGE PRICES FOR FARMER-OWNED RESER...  \n",
       "2      ARGENTINE 1986/87 GRAIN/OILSEED REGISTRATIONS ...  \n",
       "3      USX <X> DEBT DOWGRADED BY MOODY'S Moody's Inve...  \n",
       "4      CHAMPION PRODUCTS <CH> APPROVES STOCK SPLIT Ch...  \n",
       "...                                                  ...  \n",
       "13471  N.Z.'S CHASE CORP MAKES OFFER FOR ENTREGROWTH ...  \n",
       "13472  TOKYO DEALERS SEE DOLLAR POISED TO BREACH 140 ...  \n",
       "13473  JAPAN/INDIA CONFERENCE CUTS GULF WAR RISK CHAR...  \n",
       "13474  SOVIET INDUSTRIAL GROWTH/TRADE SLOWER IN 1987 ...  \n",
       "13475  SIX KILLED IN SOUTH AFRICAN GOLD MINE ACCIDENT...  \n",
       "\n",
       "[13476 rows x 4 columns]"
      ]
     },
     "execution_count": 13,
     "metadata": {},
     "output_type": "execute_result"
    }
   ],
   "source": [
    "df"
   ]
  },
  {
   "cell_type": "code",
   "execution_count": 14,
   "id": "82c067ba-9498-4b6c-ae0e-3d7a760e9f58",
   "metadata": {
    "tags": []
   },
   "outputs": [
    {
     "name": "stdout",
     "output_type": "stream",
     "text": [
      "0\n",
      "               topics title body combined_text\n",
      "68     [money-supply]                         \n",
      "70     [money-supply]                         \n",
      "71     [money-supply]                         \n",
      "72     [money-supply]                         \n",
      "93     [money-supply]                         \n",
      "...               ...   ...  ...           ...\n",
      "12777   [trade, jobs]                         \n",
      "13136          [earn]                         \n",
      "13180         [crude]                         \n",
      "13194           [acq]                         \n",
      "13267          [earn]                         \n",
      "\n",
      "[69 rows x 4 columns]\n"
     ]
    }
   ],
   "source": [
    "# 7. Check for any rows with missing and/or nan/null titles or bodies, as well as severely diminished title + body combinations. Remove them.\n",
    "\n",
    "missing_combined_text = df[df['combined_text'].isnull()]\n",
    "empty_texts = df[df['combined_text'].str.replace(' ', '', regex=False).str.len() <= 26]\n",
    "print(len(missing_combined_text))\n",
    "print(empty_texts)\n",
    "\n",
    "# No null or NaN values detected, as such, we only need to mask those rows with empty values in the combined_text column\n",
    "\n",
    "df = df[~(df['combined_text'].str.replace(' ', '', regex=False).str.len() <= 26)]\n",
    "\n",
    "# Notes:\n",
    "\n",
    "# After combining title and body texts, and removing all spaces, we can see that there are 737 documents without anything in the combined text column. The shortest value in the combined_text column has a length of 27. Anything below a length of 27 is simply blank, as both the condition '<=0' and the condition '<=26' return 737 rows."
   ]
  },
  {
   "cell_type": "code",
   "execution_count": 15,
   "id": "17c03c1c",
   "metadata": {
    "tags": []
   },
   "outputs": [
    {
     "name": "stdout",
     "output_type": "stream",
     "text": [
      "2110\n"
     ]
    },
    {
     "data": {
      "text/html": [
       "<div>\n",
       "<style scoped>\n",
       "    .dataframe tbody tr th:only-of-type {\n",
       "        vertical-align: middle;\n",
       "    }\n",
       "\n",
       "    .dataframe tbody tr th {\n",
       "        vertical-align: top;\n",
       "    }\n",
       "\n",
       "    .dataframe thead th {\n",
       "        text-align: right;\n",
       "    }\n",
       "</style>\n",
       "<table border=\"1\" class=\"dataframe\">\n",
       "  <thead>\n",
       "    <tr style=\"text-align: right;\">\n",
       "      <th></th>\n",
       "      <th>topics</th>\n",
       "      <th>title</th>\n",
       "      <th>body</th>\n",
       "      <th>combined_text</th>\n",
       "    </tr>\n",
       "  </thead>\n",
       "  <tbody>\n",
       "    <tr>\n",
       "      <th>0</th>\n",
       "      <td>[cocoa]</td>\n",
       "      <td>BAHIA COCOA REVIEW</td>\n",
       "      <td>Showers continued throughout the week in the B...</td>\n",
       "      <td>BAHIA COCOA REVIEW Showers continued throughou...</td>\n",
       "    </tr>\n",
       "    <tr>\n",
       "      <th>1</th>\n",
       "      <td>[grain, wheat, corn, barley, oat, sorghum]</td>\n",
       "      <td>NATIONAL AVERAGE PRICES FOR FARMER-OWNED RESERVE</td>\n",
       "      <td>The U.S. Agriculture Department reported the f...</td>\n",
       "      <td>NATIONAL AVERAGE PRICES FOR FARMER-OWNED RESER...</td>\n",
       "    </tr>\n",
       "    <tr>\n",
       "      <th>2</th>\n",
       "      <td>[veg-oil, linseed, lin-oil, soy-oil, sun-oil, ...</td>\n",
       "      <td>ARGENTINE 1986/87 GRAIN/OILSEED REGISTRATIONS</td>\n",
       "      <td>Argentine grain board figures show crop regist...</td>\n",
       "      <td>ARGENTINE 1986/87 GRAIN/OILSEED REGISTRATIONS ...</td>\n",
       "    </tr>\n",
       "    <tr>\n",
       "      <th>3</th>\n",
       "      <td>[earn]</td>\n",
       "      <td>CHAMPION PRODUCTS &lt;CH&gt; APPROVES STOCK SPLIT</td>\n",
       "      <td>Champion Products Inc said its board of direct...</td>\n",
       "      <td>CHAMPION PRODUCTS &lt;CH&gt; APPROVES STOCK SPLIT Ch...</td>\n",
       "    </tr>\n",
       "    <tr>\n",
       "      <th>4</th>\n",
       "      <td>[acq]</td>\n",
       "      <td>COMPUTER TERMINAL SYSTEMS &lt;CPML&gt; COMPLETES SALE</td>\n",
       "      <td>Computer Terminal Systems Inc said it has comp...</td>\n",
       "      <td>COMPUTER TERMINAL SYSTEMS &lt;CPML&gt; COMPLETES SAL...</td>\n",
       "    </tr>\n",
       "    <tr>\n",
       "      <th>...</th>\n",
       "      <td>...</td>\n",
       "      <td>...</td>\n",
       "      <td>...</td>\n",
       "      <td>...</td>\n",
       "    </tr>\n",
       "    <tr>\n",
       "      <th>11292</th>\n",
       "      <td>[acq]</td>\n",
       "      <td>N.Z.'S CHASE CORP MAKES OFFER FOR ENTREGROWTH</td>\n",
       "      <td>Chase Corp Ltd &lt;CHCA.WE&gt; said it will make an ...</td>\n",
       "      <td>N.Z.'S CHASE CORP MAKES OFFER FOR ENTREGROWTH ...</td>\n",
       "    </tr>\n",
       "    <tr>\n",
       "      <th>11293</th>\n",
       "      <td>[money-fx, dlr, yen]</td>\n",
       "      <td>TOKYO DEALERS SEE DOLLAR POISED TO BREACH 140 YEN</td>\n",
       "      <td>Tokyo's foreign exchange market is watching ne...</td>\n",
       "      <td>TOKYO DEALERS SEE DOLLAR POISED TO BREACH 140 ...</td>\n",
       "    </tr>\n",
       "    <tr>\n",
       "      <th>11294</th>\n",
       "      <td>[ship]</td>\n",
       "      <td>JAPAN/INDIA CONFERENCE CUTS GULF WAR RISK CHARGES</td>\n",
       "      <td>The Japan/India-Pakistan-Gulf/Japan shipping c...</td>\n",
       "      <td>JAPAN/INDIA CONFERENCE CUTS GULF WAR RISK CHAR...</td>\n",
       "    </tr>\n",
       "    <tr>\n",
       "      <th>11295</th>\n",
       "      <td>[ipi]</td>\n",
       "      <td>SOVIET INDUSTRIAL GROWTH/TRADE SLOWER IN 1987</td>\n",
       "      <td>The Soviet Union's industrial output is growin...</td>\n",
       "      <td>SOVIET INDUSTRIAL GROWTH/TRADE SLOWER IN 1987 ...</td>\n",
       "    </tr>\n",
       "    <tr>\n",
       "      <th>11296</th>\n",
       "      <td>[gold]</td>\n",
       "      <td>SIX KILLED IN SOUTH AFRICAN GOLD MINE ACCIDENT</td>\n",
       "      <td>Six black miners have been killed and two inju...</td>\n",
       "      <td>SIX KILLED IN SOUTH AFRICAN GOLD MINE ACCIDENT...</td>\n",
       "    </tr>\n",
       "  </tbody>\n",
       "</table>\n",
       "<p>11297 rows × 4 columns</p>\n",
       "</div>"
      ],
      "text/plain": [
       "                                                  topics  \\\n",
       "0                                                [cocoa]   \n",
       "1             [grain, wheat, corn, barley, oat, sorghum]   \n",
       "2      [veg-oil, linseed, lin-oil, soy-oil, sun-oil, ...   \n",
       "3                                                 [earn]   \n",
       "4                                                  [acq]   \n",
       "...                                                  ...   \n",
       "11292                                              [acq]   \n",
       "11293                               [money-fx, dlr, yen]   \n",
       "11294                                             [ship]   \n",
       "11295                                              [ipi]   \n",
       "11296                                             [gold]   \n",
       "\n",
       "                                                   title  \\\n",
       "0                                     BAHIA COCOA REVIEW   \n",
       "1       NATIONAL AVERAGE PRICES FOR FARMER-OWNED RESERVE   \n",
       "2          ARGENTINE 1986/87 GRAIN/OILSEED REGISTRATIONS   \n",
       "3            CHAMPION PRODUCTS <CH> APPROVES STOCK SPLIT   \n",
       "4        COMPUTER TERMINAL SYSTEMS <CPML> COMPLETES SALE   \n",
       "...                                                  ...   \n",
       "11292      N.Z.'S CHASE CORP MAKES OFFER FOR ENTREGROWTH   \n",
       "11293  TOKYO DEALERS SEE DOLLAR POISED TO BREACH 140 YEN   \n",
       "11294  JAPAN/INDIA CONFERENCE CUTS GULF WAR RISK CHARGES   \n",
       "11295      SOVIET INDUSTRIAL GROWTH/TRADE SLOWER IN 1987   \n",
       "11296     SIX KILLED IN SOUTH AFRICAN GOLD MINE ACCIDENT   \n",
       "\n",
       "                                                    body  \\\n",
       "0      Showers continued throughout the week in the B...   \n",
       "1      The U.S. Agriculture Department reported the f...   \n",
       "2      Argentine grain board figures show crop regist...   \n",
       "3      Champion Products Inc said its board of direct...   \n",
       "4      Computer Terminal Systems Inc said it has comp...   \n",
       "...                                                  ...   \n",
       "11292  Chase Corp Ltd <CHCA.WE> said it will make an ...   \n",
       "11293  Tokyo's foreign exchange market is watching ne...   \n",
       "11294  The Japan/India-Pakistan-Gulf/Japan shipping c...   \n",
       "11295  The Soviet Union's industrial output is growin...   \n",
       "11296  Six black miners have been killed and two inju...   \n",
       "\n",
       "                                           combined_text  \n",
       "0      BAHIA COCOA REVIEW Showers continued throughou...  \n",
       "1      NATIONAL AVERAGE PRICES FOR FARMER-OWNED RESER...  \n",
       "2      ARGENTINE 1986/87 GRAIN/OILSEED REGISTRATIONS ...  \n",
       "3      CHAMPION PRODUCTS <CH> APPROVES STOCK SPLIT Ch...  \n",
       "4      COMPUTER TERMINAL SYSTEMS <CPML> COMPLETES SAL...  \n",
       "...                                                  ...  \n",
       "11292  N.Z.'S CHASE CORP MAKES OFFER FOR ENTREGROWTH ...  \n",
       "11293  TOKYO DEALERS SEE DOLLAR POISED TO BREACH 140 ...  \n",
       "11294  JAPAN/INDIA CONFERENCE CUTS GULF WAR RISK CHAR...  \n",
       "11295  SOVIET INDUSTRIAL GROWTH/TRADE SLOWER IN 1987 ...  \n",
       "11296  SIX KILLED IN SOUTH AFRICAN GOLD MINE ACCIDENT...  \n",
       "\n",
       "[11297 rows x 4 columns]"
      ]
     },
     "execution_count": 15,
     "metadata": {},
     "output_type": "execute_result"
    }
   ],
   "source": [
    "# 8. Remove documents with no labels\n",
    "\n",
    "empty_topics = df[df['topics'].apply(lambda x: len(x) == 0 if isinstance(x, list) else True)]\n",
    "print(len(empty_topics.index))\n",
    "df = df.drop(empty_topics.index)\n",
    "df.reset_index(drop=True, inplace=True)\n",
    "df"
   ]
  },
  {
   "cell_type": "code",
   "execution_count": 16,
   "id": "5f83b2d5-24ff-48a9-b264-94479b8f5471",
   "metadata": {
    "tags": []
   },
   "outputs": [
    {
     "name": "stdout",
     "output_type": "stream",
     "text": [
      "topics\n",
      "earn          3963\n",
      "acq           2445\n",
      "money-fx       794\n",
      "crude          625\n",
      "grain          621\n",
      "              ... \n",
      "skr              1\n",
      "rupiah           1\n",
      "peseta           1\n",
      "castorseed       1\n",
      "red-bean         1\n",
      "Name: count, Length: 119, dtype: int64\n",
      "['cpu', 'austdlr', 'nzdlr', 'tapioca', 'plywood', 'pork-belly', 'rand', 'lit', 'nkr', 'f-cattle', 'cotton-oil', 'saudriyal', 'dfl', 'can', 'palladium', 'palmkernel', 'copra-cake', 'sfr', 'fishmeal', 'lin-oil', 'sun-meal', 'linseed', 'castor-oil', 'rye', 'groundnut-oil', 'cornglutenfeed', 'wool', 'corn-oil', 'rape-meal', 'hk', 'bfr', 'cottonseed', 'lin-meal', 'citruspulp', 'dkr', 'ringgit', 'skr', 'rupiah', 'peseta', 'castorseed', 'red-bean']\n"
     ]
    }
   ],
   "source": [
    "# 9. Removing those labels without at least five associated documents in the dataset.\n",
    "\n",
    "topic_counts = df['topics'].explode().value_counts()\n",
    "invalid_topics = topic_counts[topic_counts<5].index.tolist()\n",
    "print(topic_counts)\n",
    "print(invalid_topics)\n",
    "df['topics'] = df['topics'].apply(lambda topics_list: [label for label in topics_list if label not in invalid_topics])\n",
    "df_clean = df[df['topics'].apply(len) > 0].reset_index(drop=True)"
   ]
  },
  {
   "cell_type": "code",
   "execution_count": 17,
   "id": "2db3bd70-efc6-4801-9c79-f0e3da7f151b",
   "metadata": {
    "tags": []
   },
   "outputs": [
    {
     "data": {
      "text/plain": [
       "topics\n",
       "True    11290\n",
       "Name: count, dtype: int64"
      ]
     },
     "execution_count": 17,
     "metadata": {},
     "output_type": "execute_result"
    }
   ],
   "source": [
    "# Double checking to make sure none of the single-document topics still remain in any of the lists in the topics column\n",
    "df_clean['topics'].apply(lambda topics_list: all(label not in invalid_topics for label in topics_list)).value_counts()"
   ]
  },
  {
   "cell_type": "code",
   "execution_count": 18,
   "id": "069fb937-1d24-47b6-a19a-aba19a155021",
   "metadata": {
    "tags": []
   },
   "outputs": [
    {
     "data": {
      "text/plain": [
       "topics\n",
       "earn           3963\n",
       "acq            2445\n",
       "money-fx        794\n",
       "crude           625\n",
       "grain           621\n",
       "               ... \n",
       "inventories       7\n",
       "naphtha           7\n",
       "potato            6\n",
       "propane           6\n",
       "coconut           6\n",
       "Name: count, Length: 78, dtype: int64"
      ]
     },
     "execution_count": 18,
     "metadata": {},
     "output_type": "execute_result"
    }
   ],
   "source": [
    "# Triple Checking\n",
    "topic_counts = df_clean['topics'].explode().value_counts()\n",
    "topic_counts"
   ]
  },
  {
   "cell_type": "code",
   "execution_count": 19,
   "id": "d192faa6-d768-4780-ac5c-1102c6a327cd",
   "metadata": {
    "tags": []
   },
   "outputs": [
    {
     "data": {
      "image/png": "[encoded data removed]",
      "text/plain": [
       "<Figure size 2000x1000 with 1 Axes>"
      ]
     },
     "metadata": {},
     "output_type": "display_data"
    }
   ],
   "source": [
    "import matplotlib.pyplot as plt\n",
    "\n",
    "# Bar chart of the number of documents per topic after removing those topics with less than two documents associated\n",
    "plt.figure(figsize=(20,10))\n",
    "topic_counts.plot(kind='bar')\n",
    "plt.title('Number of Documents per Topic')\n",
    "plt.xlabel('Topics')\n",
    "plt.ylabel('Number of Documents')\n",
    "plt.xticks(rotation=90, ha='right')\n",
    "plt.show()"
   ]
  },
  {
   "cell_type": "markdown",
   "id": "2dece710",
   "metadata": {
    "tags": []
   },
   "source": [
    "# One-hot encoding topics column"
   ]
  },
  {
   "cell_type": "code",
   "execution_count": 20,
   "id": "43e888a6",
   "metadata": {
    "tags": []
   },
   "outputs": [
    {
     "data": {
      "text/html": [
       "<div>\n",
       "<style scoped>\n",
       "    .dataframe tbody tr th:only-of-type {\n",
       "        vertical-align: middle;\n",
       "    }\n",
       "\n",
       "    .dataframe tbody tr th {\n",
       "        vertical-align: top;\n",
       "    }\n",
       "\n",
       "    .dataframe thead th {\n",
       "        text-align: right;\n",
       "    }\n",
       "</style>\n",
       "<table border=\"1\" class=\"dataframe\">\n",
       "  <thead>\n",
       "    <tr style=\"text-align: right;\">\n",
       "      <th></th>\n",
       "      <th>topics</th>\n",
       "      <th>title</th>\n",
       "      <th>body</th>\n",
       "      <th>combined_text</th>\n",
       "      <th>acq</th>\n",
       "      <th>alum</th>\n",
       "      <th>barley</th>\n",
       "      <th>bop</th>\n",
       "      <th>carcass</th>\n",
       "      <th>cocoa</th>\n",
       "      <th>...</th>\n",
       "      <th>sun-oil</th>\n",
       "      <th>sunseed</th>\n",
       "      <th>tea</th>\n",
       "      <th>tin</th>\n",
       "      <th>trade</th>\n",
       "      <th>veg-oil</th>\n",
       "      <th>wheat</th>\n",
       "      <th>wpi</th>\n",
       "      <th>yen</th>\n",
       "      <th>zinc</th>\n",
       "    </tr>\n",
       "  </thead>\n",
       "  <tbody>\n",
       "    <tr>\n",
       "      <th>0</th>\n",
       "      <td>[cocoa]</td>\n",
       "      <td>BAHIA COCOA REVIEW</td>\n",
       "      <td>Showers continued throughout the week in the B...</td>\n",
       "      <td>BAHIA COCOA REVIEW Showers continued throughou...</td>\n",
       "      <td>0</td>\n",
       "      <td>0</td>\n",
       "      <td>0</td>\n",
       "      <td>0</td>\n",
       "      <td>0</td>\n",
       "      <td>1</td>\n",
       "      <td>...</td>\n",
       "      <td>0</td>\n",
       "      <td>0</td>\n",
       "      <td>0</td>\n",
       "      <td>0</td>\n",
       "      <td>0</td>\n",
       "      <td>0</td>\n",
       "      <td>0</td>\n",
       "      <td>0</td>\n",
       "      <td>0</td>\n",
       "      <td>0</td>\n",
       "    </tr>\n",
       "    <tr>\n",
       "      <th>1</th>\n",
       "      <td>[grain, wheat, corn, barley, oat, sorghum]</td>\n",
       "      <td>NATIONAL AVERAGE PRICES FOR FARMER-OWNED RESERVE</td>\n",
       "      <td>The U.S. Agriculture Department reported the f...</td>\n",
       "      <td>NATIONAL AVERAGE PRICES FOR FARMER-OWNED RESER...</td>\n",
       "      <td>0</td>\n",
       "      <td>0</td>\n",
       "      <td>1</td>\n",
       "      <td>0</td>\n",
       "      <td>0</td>\n",
       "      <td>0</td>\n",
       "      <td>...</td>\n",
       "      <td>0</td>\n",
       "      <td>0</td>\n",
       "      <td>0</td>\n",
       "      <td>0</td>\n",
       "      <td>0</td>\n",
       "      <td>0</td>\n",
       "      <td>1</td>\n",
       "      <td>0</td>\n",
       "      <td>0</td>\n",
       "      <td>0</td>\n",
       "    </tr>\n",
       "    <tr>\n",
       "      <th>2</th>\n",
       "      <td>[veg-oil, soy-oil, sun-oil, soybean, oilseed, ...</td>\n",
       "      <td>ARGENTINE 1986/87 GRAIN/OILSEED REGISTRATIONS</td>\n",
       "      <td>Argentine grain board figures show crop regist...</td>\n",
       "      <td>ARGENTINE 1986/87 GRAIN/OILSEED REGISTRATIONS ...</td>\n",
       "      <td>0</td>\n",
       "      <td>0</td>\n",
       "      <td>0</td>\n",
       "      <td>0</td>\n",
       "      <td>0</td>\n",
       "      <td>0</td>\n",
       "      <td>...</td>\n",
       "      <td>1</td>\n",
       "      <td>1</td>\n",
       "      <td>0</td>\n",
       "      <td>0</td>\n",
       "      <td>0</td>\n",
       "      <td>1</td>\n",
       "      <td>1</td>\n",
       "      <td>0</td>\n",
       "      <td>0</td>\n",
       "      <td>0</td>\n",
       "    </tr>\n",
       "    <tr>\n",
       "      <th>3</th>\n",
       "      <td>[earn]</td>\n",
       "      <td>CHAMPION PRODUCTS &lt;CH&gt; APPROVES STOCK SPLIT</td>\n",
       "      <td>Champion Products Inc said its board of direct...</td>\n",
       "      <td>CHAMPION PRODUCTS &lt;CH&gt; APPROVES STOCK SPLIT Ch...</td>\n",
       "      <td>0</td>\n",
       "      <td>0</td>\n",
       "      <td>0</td>\n",
       "      <td>0</td>\n",
       "      <td>0</td>\n",
       "      <td>0</td>\n",
       "      <td>...</td>\n",
       "      <td>0</td>\n",
       "      <td>0</td>\n",
       "      <td>0</td>\n",
       "      <td>0</td>\n",
       "      <td>0</td>\n",
       "      <td>0</td>\n",
       "      <td>0</td>\n",
       "      <td>0</td>\n",
       "      <td>0</td>\n",
       "      <td>0</td>\n",
       "    </tr>\n",
       "    <tr>\n",
       "      <th>4</th>\n",
       "      <td>[acq]</td>\n",
       "      <td>COMPUTER TERMINAL SYSTEMS &lt;CPML&gt; COMPLETES SALE</td>\n",
       "      <td>Computer Terminal Systems Inc said it has comp...</td>\n",
       "      <td>COMPUTER TERMINAL SYSTEMS &lt;CPML&gt; COMPLETES SAL...</td>\n",
       "      <td>1</td>\n",
       "      <td>0</td>\n",
       "      <td>0</td>\n",
       "      <td>0</td>\n",
       "      <td>0</td>\n",
       "      <td>0</td>\n",
       "      <td>...</td>\n",
       "      <td>0</td>\n",
       "      <td>0</td>\n",
       "      <td>0</td>\n",
       "      <td>0</td>\n",
       "      <td>0</td>\n",
       "      <td>0</td>\n",
       "      <td>0</td>\n",
       "      <td>0</td>\n",
       "      <td>0</td>\n",
       "      <td>0</td>\n",
       "    </tr>\n",
       "  </tbody>\n",
       "</table>\n",
       "<p>5 rows × 82 columns</p>\n",
       "</div>"
      ],
      "text/plain": [
       "                                              topics  \\\n",
       "0                                            [cocoa]   \n",
       "1         [grain, wheat, corn, barley, oat, sorghum]   \n",
       "2  [veg-oil, soy-oil, sun-oil, soybean, oilseed, ...   \n",
       "3                                             [earn]   \n",
       "4                                              [acq]   \n",
       "\n",
       "                                              title  \\\n",
       "0                                BAHIA COCOA REVIEW   \n",
       "1  NATIONAL AVERAGE PRICES FOR FARMER-OWNED RESERVE   \n",
       "2     ARGENTINE 1986/87 GRAIN/OILSEED REGISTRATIONS   \n",
       "3       CHAMPION PRODUCTS <CH> APPROVES STOCK SPLIT   \n",
       "4   COMPUTER TERMINAL SYSTEMS <CPML> COMPLETES SALE   \n",
       "\n",
       "                                                body  \\\n",
       "0  Showers continued throughout the week in the B...   \n",
       "1  The U.S. Agriculture Department reported the f...   \n",
       "2  Argentine grain board figures show crop regist...   \n",
       "3  Champion Products Inc said its board of direct...   \n",
       "4  Computer Terminal Systems Inc said it has comp...   \n",
       "\n",
       "                                       combined_text  acq  alum  barley  bop  \\\n",
       "0  BAHIA COCOA REVIEW Showers continued throughou...    0     0       0    0   \n",
       "1  NATIONAL AVERAGE PRICES FOR FARMER-OWNED RESER...    0     0       1    0   \n",
       "2  ARGENTINE 1986/87 GRAIN/OILSEED REGISTRATIONS ...    0     0       0    0   \n",
       "3  CHAMPION PRODUCTS <CH> APPROVES STOCK SPLIT Ch...    0     0       0    0   \n",
       "4  COMPUTER TERMINAL SYSTEMS <CPML> COMPLETES SAL...    1     0       0    0   \n",
       "\n",
       "   carcass  cocoa  ...  sun-oil  sunseed  tea  tin  trade  veg-oil  wheat  \\\n",
       "0        0      1  ...        0        0    0    0      0        0      0   \n",
       "1        0      0  ...        0        0    0    0      0        0      1   \n",
       "2        0      0  ...        1        1    0    0      0        1      1   \n",
       "3        0      0  ...        0        0    0    0      0        0      0   \n",
       "4        0      0  ...        0        0    0    0      0        0      0   \n",
       "\n",
       "   wpi  yen  zinc  \n",
       "0    0    0     0  \n",
       "1    0    0     0  \n",
       "2    0    0     0  \n",
       "3    0    0     0  \n",
       "4    0    0     0  \n",
       "\n",
       "[5 rows x 82 columns]"
      ]
     },
     "execution_count": 20,
     "metadata": {},
     "output_type": "execute_result"
    }
   ],
   "source": [
    "# Create the MultiLabelBinarizer\n",
    "mlb = MultiLabelBinarizer()\n",
    "\n",
    "# One-hot encode the 'topics' column\n",
    "one_hot_topics = mlb.fit_transform(df_clean['topics'])\n",
    "\n",
    "# Get the list of all topic names (column names)\n",
    "topic_names = mlb.classes_\n",
    "\n",
    "# Convert the one-hot encoded topics back into a dataframe\n",
    "one_hot_df = pd.DataFrame(one_hot_topics, columns=topic_names)\n",
    "\n",
    "# Concatenate the one-hot encoded topics with the original dataframe\n",
    "df_one_hot = pd.concat([df_clean, one_hot_df], axis=1)\n",
    "\n",
    "# Display the first few rows of the updated dataframe\n",
    "df_one_hot.head()"
   ]
  },
  {
   "cell_type": "markdown",
   "id": "0b4dc797-7554-4aba-bdfe-28c3fab450b7",
   "metadata": {
    "tags": []
   },
   "source": [
    "# Splitting Data"
   ]
  },
  {
   "cell_type": "code",
   "execution_count": 21,
   "id": "ff91e150-ebae-4036-94da-6d2475b045a7",
   "metadata": {},
   "outputs": [
    {
     "name": "stdout",
     "output_type": "stream",
     "text": [
      "Training Set: 9031 samples\n",
      "Testing Set: 2259 samples\n"
     ]
    }
   ],
   "source": [
    "# Extract the combined text and one-hot encoded labels\n",
    "X = df_one_hot['combined_text'].values  # Combined text (input features)\n",
    "y = df_one_hot[df_one_hot.columns.difference(['title', 'body', 'topics', 'combined_text'])].values  # One-hot encoded topics (labels)\n",
    "\n",
    "# Reshape X to 2D as required by iterative_train_test_split\n",
    "X = np.array(X).reshape(-1, 1) \n",
    "\n",
    "# Perform iterative stratified split (80% training, 20% testing)\n",
    "X_train, y_train, X_test, y_test = iterative_train_test_split(X, y, test_size=0.2)\n",
    "\n",
    "# Reshape X_train, X_test back to 1D arrays for tokenization\n",
    "X_train = X_train.ravel()\n",
    "X_test = X_test.ravel()\n",
    "\n",
    "# Check the resulting sizes\n",
    "print(f\"Training Set: {len(X_train)} samples\")\n",
    "print(f\"Testing Set: {len(X_test)} samples\")\n"
   ]
  },
  {
   "cell_type": "code",
   "execution_count": 22,
   "id": "dd91e747-e713-43cf-8321-63be8421ade5",
   "metadata": {
    "tags": []
   },
   "outputs": [],
   "source": [
    "label_names = df_one_hot.columns.difference(['title', 'body', 'topics', 'combined_text'])"
   ]
  },
  {
   "cell_type": "code",
   "execution_count": 23,
   "id": "31b3548f-70db-4a78-a48d-84f467204ef8",
   "metadata": {
    "tags": []
   },
   "outputs": [
    {
     "data": {
      "text/plain": [
       "Index(['acq', 'alum', 'barley', 'bop', 'carcass', 'cocoa', 'coconut',\n",
       "       'coconut-oil', 'coffee', 'copper', 'corn', 'cotton', 'cpi', 'crude',\n",
       "       'dlr', 'dmk', 'earn', 'fuel', 'gas', 'gnp', 'gold', 'grain',\n",
       "       'groundnut', 'heat', 'hog', 'housing', 'income', 'instal-debt',\n",
       "       'interest', 'inventories', 'ipi', 'iron-steel', 'jet', 'jobs',\n",
       "       'l-cattle', 'lead', 'lei', 'livestock', 'lumber', 'meal-feed',\n",
       "       'money-fx', 'money-supply', 'naphtha', 'nat-gas', 'nickel', 'oat',\n",
       "       'oilseed', 'orange', 'palm-oil', 'pet-chem', 'platinum', 'potato',\n",
       "       'propane', 'rape-oil', 'rapeseed', 'reserves', 'retail', 'rice',\n",
       "       'rubber', 'ship', 'silver', 'sorghum', 'soy-meal', 'soy-oil', 'soybean',\n",
       "       'stg', 'strategic-metal', 'sugar', 'sun-oil', 'sunseed', 'tea', 'tin',\n",
       "       'trade', 'veg-oil', 'wheat', 'wpi', 'yen', 'zinc'],\n",
       "      dtype='object')"
      ]
     },
     "execution_count": 23,
     "metadata": {},
     "output_type": "execute_result"
    }
   ],
   "source": [
    "label_names"
   ]
  },
  {
   "cell_type": "code",
   "execution_count": 24,
   "id": "7895a089-0fdb-4d74-9d4b-368f3145b182",
   "metadata": {
    "tags": []
   },
   "outputs": [],
   "source": [
    "# Function to check label distribution\n",
    "def check_label_distribution(y, label_names):\n",
    "    label_counts = np.sum(y, axis=0)  # Sum the one-hot encoded labels along axis 0\n",
    "    label_distribution = dict(zip(label_names, label_counts))  # Create a dictionary mapping label names to counts\n",
    "    return label_distribution"
   ]
  },
  {
   "cell_type": "code",
   "execution_count": 25,
   "id": "5f54c62c-d096-465c-a02f-a967ec546d0a",
   "metadata": {
    "tags": []
   },
   "outputs": [
    {
     "name": "stdout",
     "output_type": "stream",
     "text": [
      "Training Set Label Distribution:\n",
      "acq: 1956 occurrences\n",
      "alum: 50 occurrences\n",
      "barley: 42 occurrences\n",
      "bop: 93 occurrences\n",
      "carcass: 60 occurrences\n",
      "cocoa: 61 occurrences\n",
      "coconut: 4 occurrences\n",
      "coconut-oil: 6 occurrences\n",
      "coffee: 116 occurrences\n",
      "copper: 62 occurrences\n",
      "corn: 201 occurrences\n",
      "cotton: 50 occurrences\n",
      "cpi: 90 occurrences\n",
      "crude: 500 occurrences\n",
      "dlr: 173 occurrences\n",
      "dmk: 12 occurrences\n",
      "earn: 3170 occurrences\n",
      "fuel: 22 occurrences\n",
      "gas: 51 occurrences\n",
      "gnp: 130 occurrences\n",
      "gold: 108 occurrences\n",
      "grain: 497 occurrences\n",
      "groundnut: 8 occurrences\n",
      "heat: 20 occurrences\n",
      "hog: 22 occurrences\n",
      "housing: 17 occurrences\n",
      "income: 14 occurrences\n",
      "instal-debt: 6 occurrences\n",
      "interest: 407 occurrences\n",
      "inventories: 6 occurrences\n",
      "ipi: 51 occurrences\n",
      "iron-steel: 54 occurrences\n",
      "jet: 6 occurrences\n",
      "jobs: 59 occurrences\n",
      "l-cattle: 7 occurrences\n",
      "lead: 28 occurrences\n",
      "lei: 14 occurrences\n",
      "livestock: 91 occurrences\n",
      "lumber: 14 occurrences\n",
      "meal-feed: 41 occurrences\n",
      "money-fx: 635 occurrences\n",
      "money-supply: 146 occurrences\n",
      "naphtha: 6 occurrences\n",
      "nat-gas: 104 occurrences\n",
      "nickel: 9 occurrences\n",
      "oat: 10 occurrences\n",
      "oilseed: 154 occurrences\n",
      "orange: 23 occurrences\n",
      "palm-oil: 34 occurrences\n",
      "pet-chem: 33 occurrences\n",
      "platinum: 10 occurrences\n",
      "potato: 5 occurrences\n",
      "propane: 5 occurrences\n",
      "rape-oil: 5 occurrences\n",
      "rapeseed: 28 occurrences\n",
      "reserves: 66 occurrences\n",
      "retail: 22 occurrences\n",
      "rice: 53 occurrences\n",
      "rubber: 41 occurrences\n",
      "ship: 237 occurrences\n",
      "silver: 30 occurrences\n",
      "sorghum: 28 occurrences\n",
      "soy-meal: 21 occurrences\n",
      "soy-oil: 21 occurrences\n",
      "soybean: 96 occurrences\n",
      "stg: 17 occurrences\n",
      "strategic-metal: 26 occurrences\n",
      "sugar: 146 occurrences\n",
      "sun-oil: 6 occurrences\n",
      "sunseed: 13 occurrences\n",
      "tea: 12 occurrences\n",
      "tin: 26 occurrences\n",
      "trade: 438 occurrences\n",
      "veg-oil: 110 occurrences\n",
      "wheat: 242 occurrences\n",
      "wpi: 26 occurrences\n",
      "yen: 55 occurrences\n",
      "zinc: 35 occurrences\n",
      "[]\n"
     ]
    }
   ],
   "source": [
    "# Checking distribution of labels in our training set\n",
    "train_label_distribution = check_label_distribution(y_train, label_names)\n",
    "print(\"Training Set Label Distribution:\")\n",
    "zero_count_labels_train = []\n",
    "for label, count in train_label_distribution.items():\n",
    "    print(f\"{label}: {count} occurrences\")\n",
    "    if count == 0:\n",
    "        zero_count_labels_train.append(label)\n",
    "print(zero_count_labels_train)\n",
    "    \n"
   ]
  },
  {
   "cell_type": "code",
   "execution_count": 26,
   "id": "4c19408d-516c-45aa-a896-229d015168cf",
   "metadata": {
    "tags": []
   },
   "outputs": [
    {
     "name": "stdout",
     "output_type": "stream",
     "text": [
      "\n",
      "Testing Set Label Distribution:\n",
      "acq: 489 occurrences\n",
      "alum: 12 occurrences\n",
      "barley: 12 occurrences\n",
      "bop: 23 occurrences\n",
      "carcass: 15 occurrences\n",
      "cocoa: 15 occurrences\n",
      "coconut: 2 occurrences\n",
      "coconut-oil: 1 occurrences\n",
      "coffee: 29 occurrences\n",
      "copper: 16 occurrences\n",
      "corn: 50 occurrences\n",
      "cotton: 13 occurrences\n",
      "cpi: 22 occurrences\n",
      "crude: 125 occurrences\n",
      "dlr: 43 occurrences\n",
      "dmk: 3 occurrences\n",
      "earn: 793 occurrences\n",
      "fuel: 6 occurrences\n",
      "gas: 13 occurrences\n",
      "gnp: 33 occurrences\n",
      "gold: 27 occurrences\n",
      "grain: 124 occurrences\n",
      "groundnut: 2 occurrences\n",
      "heat: 5 occurrences\n",
      "hog: 5 occurrences\n",
      "housing: 4 occurrences\n",
      "income: 4 occurrences\n",
      "instal-debt: 1 occurrences\n",
      "interest: 102 occurrences\n",
      "inventories: 1 occurrences\n",
      "ipi: 13 occurrences\n",
      "iron-steel: 13 occurrences\n",
      "jet: 2 occurrences\n",
      "jobs: 15 occurrences\n",
      "l-cattle: 2 occurrences\n",
      "lead: 7 occurrences\n",
      "lei: 3 occurrences\n",
      "livestock: 23 occurrences\n",
      "lumber: 3 occurrences\n",
      "meal-feed: 10 occurrences\n",
      "money-fx: 159 occurrences\n",
      "money-supply: 36 occurrences\n",
      "naphtha: 1 occurrences\n",
      "nat-gas: 26 occurrences\n",
      "nickel: 2 occurrences\n",
      "oat: 3 occurrences\n",
      "oilseed: 38 occurrences\n",
      "orange: 6 occurrences\n",
      "palm-oil: 9 occurrences\n",
      "pet-chem: 8 occurrences\n",
      "platinum: 2 occurrences\n",
      "potato: 1 occurrences\n",
      "propane: 1 occurrences\n",
      "rape-oil: 3 occurrences\n",
      "rapeseed: 7 occurrences\n",
      "reserves: 17 occurrences\n",
      "retail: 5 occurrences\n",
      "rice: 14 occurrences\n",
      "rubber: 10 occurrences\n",
      "ship: 59 occurrences\n",
      "silver: 7 occurrences\n",
      "sorghum: 7 occurrences\n",
      "soy-meal: 6 occurrences\n",
      "soy-oil: 4 occurrences\n",
      "soybean: 24 occurrences\n",
      "stg: 4 occurrences\n",
      "strategic-metal: 6 occurrences\n",
      "sugar: 37 occurrences\n",
      "sun-oil: 2 occurrences\n",
      "sunseed: 4 occurrences\n",
      "tea: 3 occurrences\n",
      "tin: 7 occurrences\n",
      "trade: 110 occurrences\n",
      "veg-oil: 27 occurrences\n",
      "wheat: 63 occurrences\n",
      "wpi: 6 occurrences\n",
      "yen: 14 occurrences\n",
      "zinc: 9 occurrences\n",
      "[]\n"
     ]
    }
   ],
   "source": [
    "# Check the distribution of labels for our testing set\n",
    "test_label_distribution = check_label_distribution(y_test, label_names)\n",
    "print(\"\\nTesting Set Label Distribution:\")\n",
    "zero_count_labels_test = []\n",
    "for label, count in test_label_distribution.items():\n",
    "    print(f\"{label}: {count} occurrences\")\n",
    "    if count == 0:\n",
    "        zero_count_labels_test.append(label)\n",
    "print(zero_count_labels_test)"
   ]
  },
  {
   "cell_type": "markdown",
   "id": "b65815d0-7bc1-4def-9aea-d3598793ae85",
   "metadata": {},
   "source": [
    "# Tokenizing text and turning topics into PyTorch tensor"
   ]
  },
  {
   "cell_type": "code",
   "execution_count": 27,
   "id": "c1c8f9a5",
   "metadata": {
    "tags": []
   },
   "outputs": [
    {
     "data": {
      "application/vnd.jupyter.widget-view+json": {
       "model_id": "b633be05fda245ea8df45d9b15ba7c23",
       "version_major": 2,
       "version_minor": 0
      },
      "text/plain": [
       "tokenizer.json:   0%|          | 0.00/436k [00:00<?, ?B/s]"
      ]
     },
     "metadata": {},
     "output_type": "display_data"
    },
    {
     "name": "stderr",
     "output_type": "stream",
     "text": [
      "C:\\Users\\Manlai\\anaconda3\\envs\\TextClassification\\Lib\\site-packages\\huggingface_hub\\file_download.py:139: UserWarning: `huggingface_hub` cache-system uses symlinks by default to efficiently store duplicated files but your machine does not support them in C:\\Users\\Manlai\\.cache\\huggingface\\hub\\models--bert-base-cased. Caching files will still work but in a degraded version that might require more space on your disk. This warning can be disabled by setting the `HF_HUB_DISABLE_SYMLINKS_WARNING` environment variable. For more details, see https://huggingface.co/docs/huggingface_hub/how-to-cache#limitations.\n",
      "To support symlinks on Windows, you either need to activate Developer Mode or to run Python as an administrator. In order to activate developer mode, see this article: https://docs.microsoft.com/en-us/windows/apps/get-started/enable-your-device-for-development\n",
      "  warnings.warn(message)\n"
     ]
    }
   ],
   "source": [
    "# Load the pre-trained BERT tokenizer\n",
    "tokenizer = BertTokenizer.from_pretrained('bert-base-cased')\n",
    "\n",
    "# Tokenize the text data #\n",
    "def tokenize_texts(texts, max_length=512):\n",
    "    return tokenizer(\n",
    "        texts.tolist(),           # List of text to be tokenized\n",
    "        padding=True,             # Add padding to make all sequences the same length\n",
    "        truncation=True,          # Truncate texts that are too long\n",
    "        max_length=max_length,    # Maximum length of each input sequence\n",
    "        return_tensors='pt'       # Return PyTorch tensors\n",
    "    )\n",
    "\n",
    "# Tokenize the text in the dataframe\n",
    "X_train_tokenized = tokenize_texts(X_train)\n",
    "X_test_tokenized = tokenize_texts(X_test)"
   ]
  },
  {
   "cell_type": "code",
   "execution_count": 28,
   "id": "2bf9d314",
   "metadata": {
    "tags": []
   },
   "outputs": [],
   "source": [
    "# Convert labels to PyTorch tensors\n",
    "train_labels = torch.tensor(y_train.astype(float))\n",
    "test_labels = torch.tensor(y_test.astype(float))\n",
    "\n",
    "# Custom dataset class extending PyTorch's 'Dataset' class.\n",
    "class DocumentDataset(Dataset):\n",
    "    def __init__(self, encodings, labels):\n",
    "        self.encodings = encodings\n",
    "        self.labels = labels\n",
    "\n",
    "    def __getitem__(self, idx):\n",
    "        item = {key: val[idx] for key, val in self.encodings.items()}\n",
    "        item['labels'] = self.labels[idx]\n",
    "        return item\n",
    "\n",
    "    def __len__(self):\n",
    "        return len(self.labels)\n",
    "\n",
    "# Create training and testing datasets\n",
    "train_dataset = DocumentDataset(X_train_tokenized, train_labels)\n",
    "test_dataset = DocumentDataset(X_test_tokenized, test_labels)\n",
    "\n",
    "# Create DataLoader for batching\n",
    "train_dataloader = DataLoader(train_dataset, batch_size=16, shuffle=True)\n",
    "test_dataloader = DataLoader(test_dataset, batch_size=16)"
   ]
  },
  {
   "cell_type": "markdown",
   "id": "03cf219f-3133-4eb5-acf5-799df07c6731",
   "metadata": {
    "tags": []
   },
   "source": [
    "# Initializing BERT Model and defining Optimizer"
   ]
  },
  {
   "cell_type": "code",
   "execution_count": 29,
   "id": "a366e473-3299-4c3f-b240-87d1f4f626e6",
   "metadata": {},
   "outputs": [
    {
     "name": "stderr",
     "output_type": "stream",
     "text": [
      "Some weights of BertForSequenceClassification were not initialized from the model checkpoint at bert-base-cased and are newly initialized: ['classifier.bias', 'classifier.weight']\n",
      "You should probably TRAIN this model on a down-stream task to be able to use it for predictions and inference.\n"
     ]
    },
    {
     "data": {
      "text/plain": [
       "BertForSequenceClassification(\n",
       "  (bert): BertModel(\n",
       "    (embeddings): BertEmbeddings(\n",
       "      (word_embeddings): Embedding(28996, 768, padding_idx=0)\n",
       "      (position_embeddings): Embedding(512, 768)\n",
       "      (token_type_embeddings): Embedding(2, 768)\n",
       "      (LayerNorm): LayerNorm((768,), eps=1e-12, elementwise_affine=True)\n",
       "      (dropout): Dropout(p=0.1, inplace=False)\n",
       "    )\n",
       "    (encoder): BertEncoder(\n",
       "      (layer): ModuleList(\n",
       "        (0-11): 12 x BertLayer(\n",
       "          (attention): BertAttention(\n",
       "            (self): BertSdpaSelfAttention(\n",
       "              (query): Linear(in_features=768, out_features=768, bias=True)\n",
       "              (key): Linear(in_features=768, out_features=768, bias=True)\n",
       "              (value): Linear(in_features=768, out_features=768, bias=True)\n",
       "              (dropout): Dropout(p=0.1, inplace=False)\n",
       "            )\n",
       "            (output): BertSelfOutput(\n",
       "              (dense): Linear(in_features=768, out_features=768, bias=True)\n",
       "              (LayerNorm): LayerNorm((768,), eps=1e-12, elementwise_affine=True)\n",
       "              (dropout): Dropout(p=0.1, inplace=False)\n",
       "            )\n",
       "          )\n",
       "          (intermediate): BertIntermediate(\n",
       "            (dense): Linear(in_features=768, out_features=3072, bias=True)\n",
       "            (intermediate_act_fn): GELUActivation()\n",
       "          )\n",
       "          (output): BertOutput(\n",
       "            (dense): Linear(in_features=3072, out_features=768, bias=True)\n",
       "            (LayerNorm): LayerNorm((768,), eps=1e-12, elementwise_affine=True)\n",
       "            (dropout): Dropout(p=0.1, inplace=False)\n",
       "          )\n",
       "        )\n",
       "      )\n",
       "    )\n",
       "    (pooler): BertPooler(\n",
       "      (dense): Linear(in_features=768, out_features=768, bias=True)\n",
       "      (activation): Tanh()\n",
       "    )\n",
       "  )\n",
       "  (dropout): Dropout(p=0.1, inplace=False)\n",
       "  (classifier): Linear(in_features=768, out_features=78, bias=True)\n",
       ")"
      ]
     },
     "execution_count": 29,
     "metadata": {},
     "output_type": "execute_result"
    }
   ],
   "source": [
    "# Initialize the BERT model\n",
    "model = BertForSequenceClassification.from_pretrained(\n",
    "    'bert-base-cased',\n",
    "    num_labels=y_train.shape[1],  # Number of labels for multi-label classification, should be fine since our training set encompasses all the different labels that will appear in our dataset.\n",
    "    problem_type=\"multi_label_classification\"\n",
    ")\n",
    "\n",
    "# Move model to GPU\n",
    "device = torch.device('cuda') if torch.cuda.is_available() else torch.device('cpu')\n",
    "model.to(device)"
   ]
  },
  {
   "cell_type": "code",
   "execution_count": 30,
   "id": "5c37e68c-5f74-4d24-a736-7e9a2d05a353",
   "metadata": {
    "tags": []
   },
   "outputs": [
    {
     "name": "stderr",
     "output_type": "stream",
     "text": [
      "C:\\Users\\Manlai\\anaconda3\\envs\\TextClassification\\Lib\\site-packages\\transformers\\optimization.py:591: FutureWarning: This implementation of AdamW is deprecated and will be removed in a future version. Use the PyTorch implementation torch.optim.AdamW instead, or set `no_deprecation_warning=True` to disable this warning\n",
      "  warnings.warn(\n"
     ]
    }
   ],
   "source": [
    "# Define the optimizer\n",
    "optimizer = AdamW(model.parameters(), lr=2e-5)\n",
    "\n",
    "# Set up a learning rate scheduler\n",
    "epochs = 5\n",
    "total_steps = len(train_dataloader) * epochs\n",
    "scheduler = get_linear_schedule_with_warmup(\n",
    "    optimizer,\n",
    "    num_warmup_steps=0,\n",
    "    num_training_steps=total_steps\n",
    ")"
   ]
  },
  {
   "cell_type": "markdown",
   "id": "1eaa2967-9975-4a09-bf94-c19b48aa0d96",
   "metadata": {
    "tags": []
   },
   "source": [
    "# TRAINING WITHOUT VALIDATION SET"
   ]
  },
  {
   "cell_type": "code",
   "execution_count": 31,
   "id": "4faab67a-613e-4411-b055-008fb68b3d4d",
   "metadata": {},
   "outputs": [
    {
     "name": "stdout",
     "output_type": "stream",
     "text": [
      "Epoch 1/5, Loss: 0.14613609617262815\n",
      "Epoch 2/5, Loss: 0.05437109712346465\n",
      "Epoch 3/5, Loss: 0.04275363316446279\n",
      "Epoch 4/5, Loss: 0.03640951817377215\n",
      "Epoch 5/5, Loss: 0.03313266952909463\n"
     ]
    }
   ],
   "source": [
    "# Set up loss function for multi-label classification\n",
    "loss_fn = nn.BCEWithLogitsLoss()\n",
    "\n",
    "# Training loop\n",
    "model.train()\n",
    "\n",
    "for epoch in range(epochs):\n",
    "    total_loss = 0\n",
    "    for batch in train_dataloader:\n",
    "        # Move batch to GPU\n",
    "        batch = {k: v.to(device) for k, v in batch.items()}\n",
    "\n",
    "        # Zero the gradients\n",
    "        optimizer.zero_grad()\n",
    "\n",
    "        # Forward pass\n",
    "        outputs = model(**batch)\n",
    "        loss = loss_fn(outputs.logits, batch['labels'].float())  # Use float() for multi-label\n",
    "\n",
    "        # Backward pass and optimization step\n",
    "        loss.backward()\n",
    "        optimizer.step()\n",
    "        scheduler.step()\n",
    "\n",
    "        total_loss += loss.item()\n",
    "\n",
    "    print(f\"Epoch {epoch + 1}/{epochs}, Loss: {total_loss/len(train_dataloader)}\")\n"
   ]
  },
  {
   "cell_type": "code",
   "execution_count": 32,
   "id": "72df7899-bab9-4478-b499-94620435b748",
   "metadata": {},
   "outputs": [
    {
     "name": "stdout",
     "output_type": "stream",
     "text": [
      "Test F1 Score: 0.6946270686919067\n",
      "Test Accuracy: 0.5781319167773351\n",
      "Test Precision: 0.9677826910928616\n",
      "Test Recall: 0.5417256011315418\n"
     ]
    }
   ],
   "source": [
    "model.eval()\n",
    "\n",
    "all_preds = []\n",
    "all_labels = []\n",
    "total_test_loss = 0\n",
    "for batch in test_dataloader:\n",
    "    batch = {k: v.to(device) for k, v in batch.items()}\n",
    "    with torch.no_grad():\n",
    "        outputs = model(**batch)\n",
    "        loss = loss_fn(outputs.logits, batch['labels'].float())\n",
    "        total_test_loss += loss.item()\n",
    "    preds = torch.sigmoid(outputs.logits).cpu().numpy()  # Apply sigmoid to get probabilities\n",
    "    preds = (preds > 0.5).astype(int)  # Threshold to get binary predictions\n",
    "    all_preds.append(preds)\n",
    "    all_labels.append(batch['labels'].cpu().numpy())\n",
    "\n",
    "all_preds = np.vstack(all_preds)\n",
    "all_labels = np.vstack(all_labels)\n",
    "\n",
    "# Calculate metrics\n",
    "f1 = f1_score(all_labels, all_preds, average='micro')\n",
    "accuracy = accuracy_score(all_labels, all_preds)\n",
    "precision = precision_score(all_labels, all_preds, average='micro')\n",
    "recall = recall_score(all_labels, all_preds, average='micro')\n",
    "print(f\"Test F1 Score: {f1}\")\n",
    "print(f\"Test Accuracy: {accuracy}\")\n",
    "print(f\"Test Precision: {precision}\")\n",
    "print(f\"Test Recall: {recall}\")\n"
   ]
  },
  {
   "cell_type": "code",
   "execution_count": null,
   "id": "23b970d9-d151-49ce-98cf-2900c2ad002a",
   "metadata": {},
   "outputs": [],
   "source": []
  }
 ],
 "metadata": {
  "kernelspec": {
   "display_name": "Python 3 (ipykernel)",
   "language": "python",
   "name": "python3"
  },
  "language_info": {
   "codemirror_mode": {
    "name": "ipython",
    "version": 3
   },
   "file_extension": ".py",
   "mimetype": "text/x-python",
   "name": "python",
   "nbconvert_exporter": "python",
   "pygments_lexer": "ipython3",
   "version": "3.11.5"
  }
 },
 "nbformat": 4,
 "nbformat_minor": 5
}
